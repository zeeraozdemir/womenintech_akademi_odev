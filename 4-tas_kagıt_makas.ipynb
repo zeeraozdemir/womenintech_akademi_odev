{
 "cells": [
  {
   "cell_type": "code",
   "execution_count": null,
   "metadata": {},
   "outputs": [],
   "source": [
    "import random\n",
    "player_score = computer_score = 0\n",
    "def print_result(comp_choice, winner):\n",
    "    print(f\"Bilgisayarın Seçimi: {comp_choice}\\n\\nKazanan: {winner}\")\n",
    "print(\"Taş Kağıt Makas Oyununa Hoş geldiniz!\\n\" + \"-\"*37)\n",
    "while True:\n",
    "    print(\"\\n1 - Taş\\n2 - Kağıt \\n3 - Makas\\nOyundan çıkmak isterseniz bu değerler dışında bir değer giriniz\")\n",
    "    player_choice = int(input(\"Seçiminizi yapınız\"))\n",
    "    computer_choice = random.choice([1, 2, 3])\n",
    "    if player_choice == computer_choice:\n",
    "        print(\"Beraber, yeniden oynayınız\")\n",
    "    elif player_choice == 1:\n",
    "        if computer_choice == 2:\n",
    "            print_result(computer_choice, \"Bilgisayar\")\n",
    "            computer_score += 100\n",
    "        elif computer_choice == 3:\n",
    "            print_result(computer_choice, \"Kullanıcı\")\n",
    "            player_score += 100\n",
    "    elif player_choice == 2:\n",
    "        if computer_choice == 1:\n",
    "            print_result(computer_choice, \"Kullanıcı\")\n",
    "            player_score += 100\n",
    "        elif computer_choice == 3:\n",
    "            print_result(computer_choice, \"Bilgisayar\")\n",
    "            computer_score += 100\n",
    "    elif player_choice == 3:\n",
    "        if computer_choice == 1:\n",
    "            print_result(computer_choice, \"Bilgisayar\")\n",
    "            computer_score += 100\n",
    "        elif computer_choice == 2:\n",
    "            print_result(computer_choice, \"Kullanıcı\")\n",
    "            player_score += 100\n",
    "    else:\n",
    "        break\n",
    "print(f\"\\n\\nKullanıcı skoru {player_score} - Bilgisayarın skoru {computer_score}\")"
   ]
  }
 ],
 "metadata": {
  "kernelspec": {
   "display_name": "Python 3.10.5 64-bit",
   "language": "python",
   "name": "python3"
  },
  "language_info": {
   "name": "python",
   "version": "3.10.5"
  },
  "orig_nbformat": 4,
  "vscode": {
   "interpreter": {
    "hash": "f0e6a655b6036305b310326d5b94fe4f588858eb6b0ad9b0044624012cfc47cf"
   }
  }
 },
 "nbformat": 4,
 "nbformat_minor": 2
}
