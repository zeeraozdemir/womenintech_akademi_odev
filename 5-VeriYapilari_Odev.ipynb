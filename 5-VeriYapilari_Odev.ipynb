{
 "cells": [
  {
   "cell_type": "code",
   "execution_count": 1,
   "metadata": {},
   "outputs": [
    {
     "name": "stdout",
     "output_type": "stream",
     "text": [
      "Listede toplam 22 adet sayi eksiktir.Bu sayılar: [1, 11, 16, 17, 25, 26, 28, 30, 33, 36, 39, 44, 47, 51, 54, 55, 58, 67, 70, 81, 86, 93]\n"
     ]
    }
   ],
   "source": [
    "import random\n",
    "\n",
    "my_list = [i for i in range(0, 101)]\n",
    "random.shuffle(my_list)\n",
    "\n",
    "my_list2 = []\n",
    "del my_list[11:33]\n",
    "\n",
    "for i in range(0,101):\n",
    "  if i not in my_list:\n",
    "     my_list2.append(i)\n",
    "\n",
    "print(f\"Listede toplam {len(my_list2)} adet sayi eksik.Bu sayılar: {my_list2}\")"
   ]
  }
 ],
 "metadata": {
  "kernelspec": {
   "display_name": "Python 3.10.5 64-bit",
   "language": "python",
   "name": "python3"
  },
  "language_info": {
   "codemirror_mode": {
    "name": "ipython",
    "version": 3
   },
   "file_extension": ".py",
   "mimetype": "text/x-python",
   "name": "python",
   "nbconvert_exporter": "python",
   "pygments_lexer": "ipython3",
   "version": "3.10.5"
  },
  "orig_nbformat": 4,
  "vscode": {
   "interpreter": {
    "hash": "f0e6a655b6036305b310326d5b94fe4f588858eb6b0ad9b0044624012cfc47cf"
   }
  }
 },
 "nbformat": 4,
 "nbformat_minor": 2
}
