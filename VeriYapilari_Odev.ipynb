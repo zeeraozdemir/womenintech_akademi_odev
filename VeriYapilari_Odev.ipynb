{
 "cells": [
  {
   "cell_type": "code",
   "execution_count": null,
   "metadata": {},
   "outputs": [],
   "source": [
    "import random\n",
    "\n",
    "my_list = [i for i in range(0, 101)]\n",
    "random.shuffle(my_list)\n",
    "\n",
    "my_list2 = []\n",
    "del my_list[11:33]\n",
    "\n",
    "for i in range(0,101):\n",
    "  if i not in my_list:\n",
    "     my_list2.append(i)\n",
    "\n",
    "print(f\"Listede toplam {len(my_list2)} adet sayi eksiktir.\\n Bu sayılar: {my_list2}\")"
   ]
  }
 ],
 "metadata": {
  "language_info": {
   "name": "python"
  },
  "orig_nbformat": 4
 },
 "nbformat": 4,
 "nbformat_minor": 2
}
