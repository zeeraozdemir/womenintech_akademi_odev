{
 "cells": [
  {
   "cell_type": "code",
   "execution_count": null,
   "metadata": {},
   "outputs": [],
   "source": [
    "import random\n",
    "\n",
    "def computer_guess(x):\n",
    "    start = 1\n",
    "    end = 100\n",
    "    result = \"\"\n",
    "    while result != \"d\":\n",
    "        guess = random.randint(start,end)\n",
    "\n",
    "     \n",
    "\n",
    "        result = input(f\"{guess} değeri aklından tuttuğun değerden büyükse(b) küçükse (k),doğruysa (d) harfi giriniz: \").lower()\n",
    "        if result == \"b\":\n",
    "            end = guess - 1\n",
    "        elif result ==\"k\":\n",
    "            start = guess + 1     \n",
    "\n",
    "    print(\"tebrikler,doğru tahmin\")\n",
    "computer_guess(19) "
   ]
  }
 ],
 "metadata": {
  "language_info": {
   "name": "python"
  },
  "orig_nbformat": 4
 },
 "nbformat": 4,
 "nbformat_minor": 2
}
