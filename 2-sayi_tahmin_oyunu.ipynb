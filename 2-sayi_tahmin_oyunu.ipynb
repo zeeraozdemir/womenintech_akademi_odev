{
 "cells": [
  {
   "cell_type": "code",
   "execution_count": null,
   "metadata": {},
   "outputs": [],
   "source": [
    "from random import randint\n",
    "def guess(number):\n",
    "    user_number = int(input(\"sayı tahmin oyunu için 1-100 arasında bir tahminde bulun\"))\n",
    "    while number != user_number:\n",
    "        if number < user_number:\n",
    "          print(\"üzgünüm daha küçük bir tahminde bulun\")\n",
    "        else:\n",
    "            print(\"üzgünüm daha büyük bir tahminde bulun\") \n",
    "        user_number =  int(input(\"sayı tahmin oyunu başka bir tahminde bulun\"))   \n",
    "    else:     \n",
    "        print(\"tebrikler,doğru tahmin\")\n",
    "          \n",
    "\n",
    "\n",
    "guess (randint(1,100))"
   ]
  }
 ],
 "metadata": {
  "kernelspec": {
   "display_name": "Python 3.10.5 64-bit",
   "language": "python",
   "name": "python3"
  },
  "language_info": {
   "codemirror_mode": {
    "name": "ipython",
    "version": 3
   },
   "file_extension": ".py",
   "mimetype": "text/x-python",
   "name": "python",
   "nbconvert_exporter": "python",
   "pygments_lexer": "ipython3",
   "version": "3.10.5"
  },
  "orig_nbformat": 4,
  "vscode": {
   "interpreter": {
    "hash": "f0e6a655b6036305b310326d5b94fe4f588858eb6b0ad9b0044624012cfc47cf"
   }
  }
 },
 "nbformat": 4,
 "nbformat_minor": 2
}
