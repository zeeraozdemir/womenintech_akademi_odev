{
 "cells": [
  {
   "cell_type": "code",
   "execution_count": null,
   "metadata": {},
   "outputs": [],
   "source": [
    "file =open(\"all_data.txt\",\"r\",encoding=\"utf-8\").readlines()\n",
    "# dosya=open(\"all_data.txt\",\"w\",encoding=\"utf-8\")\n",
    "# dosya.close() burda siliyor anlamadım\n",
    "ds=[]\n",
    "\n",
    "for i in file :\n",
    "    i = i.lower()\n",
    "    b=i.replace(\"\\n\", \"\") # tek tek çalıştırdım not responding diyo\n",
    "    c=i.replace(\"ş\", \"s\") \n",
    "    d=i.replace(\"ı\", \"i\") \n",
    "    e=i.replace(\"ö\", \"o\") \n",
    "    f=i.replace(\"ğ\", \"g\") \n",
    "    g=i.replace(\"ç\", \"c\") \n",
    "    h=i.replace(\"ü\", \"u\")\n",
    "\n",
    "    ds.extend([b,c,d,e,f,g,h])\n",
    "kume = set(ds) #duplicate silindi\n",
    "ds = list(kume)\n",
    "\n",
    "print(ds) "
   ]
  }
 ],
 "metadata": {
  "kernelspec": {
   "display_name": "Python 3.10.5 64-bit",
   "language": "python",
   "name": "python3"
  },
  "language_info": {
   "codemirror_mode": {
    "name": "ipython",
    "version": 3
   },
   "file_extension": ".py",
   "mimetype": "text/x-python",
   "name": "python",
   "nbconvert_exporter": "python",
   "pygments_lexer": "ipython3",
   "version": "3.10.5"
  },
  "orig_nbformat": 4,
  "vscode": {
   "interpreter": {
    "hash": "f0e6a655b6036305b310326d5b94fe4f588858eb6b0ad9b0044624012cfc47cf"
   }
  }
 },
 "nbformat": 4,
 "nbformat_minor": 2
}
