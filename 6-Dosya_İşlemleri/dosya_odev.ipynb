{
 "cells": [
  {
   "cell_type": "markdown",
   "metadata": {},
   "source": [
    "Düzensiz ve duplicate veriden oluşan \"all_data.txt\" dosyası üzerinde yapılacak olan işlemler;\n",
    "\n",
    "    * Bütün text küçük harfe çevrilecek\n",
    "    * Türkçe karakterler replace edilecek\n",
    "        ş -> s\n",
    "        ı -> i\n",
    "        ö -> o\n",
    "        ğ -> g\n",
    "        ç -> c\n",
    "        ü -> u\n",
    "    * Noktalama işaretleri kaldırılacak\n",
    "    * Bir satır tamamen sayılardan oluşuyorsa satırı yeni dosyaya ekleme\n",
    "    * Her satırda bir cümle olacak şekilde satırları düzenleyin\n",
    "      duplicate veri barındırmayacak\n",
    "\n"
   ]
  },
  {
   "cell_type": "code",
   "execution_count": null,
   "metadata": {},
   "outputs": [],
   "source": []
  }
 ],
 "metadata": {
  "language_info": {
   "name": "python"
  },
  "orig_nbformat": 4
 },
 "nbformat": 4,
 "nbformat_minor": 2
}
